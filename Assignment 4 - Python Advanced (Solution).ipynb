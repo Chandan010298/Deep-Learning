{
 "cells": [
  {
   "cell_type": "markdown",
   "metadata": {},
   "source": [
    "# Assignment 4 Questions"
   ]
  },
  {
   "cell_type": "markdown",
   "metadata": {},
   "source": [
    "## Problem Statement"
   ]
  },
  {
   "cell_type": "markdown",
   "metadata": {},
   "source": [
    "Q.1 Given a sequence of n values x1, x2, ..., xn and a window size k>0, the k-th moving average of\n",
    "the given sequence is defined as follows:\n",
    "\n",
    "The moving average sequence has n-k+1 elements as shown below.\n",
    "The moving averages with k=4 of a ten-value sequence (n=10) is shown below\n",
    "\n",
    "    i 1 2 3 4 5 6 7 8 9 10\n",
    "    ===== == == == == == == == == == ==\n",
    "    Input 10 20 30 40 50 60 70 80 90 100\n",
    "    y1 25 = (10+20+30+40)/4\n",
    "    y2 35 = (20+30+40+50)/4\n",
    "    y3 45 = (30+40+50+60)/4\n",
    "    y4 55 = (40+50+60+70)/4\n",
    "    y5 65 = (50+60+70+80)/4\n",
    "    y6 75 = (60+70+80+90)/4\n",
    "    y7 85 = (70+80+90+100)/4\n",
    "\n",
    "Thus, the moving average sequence has n-k+1=10-4+1=7 values.\n",
    "\n",
    "Write a function to find moving average in an array over a window:\n",
    "\n",
    "Test it over [3, 5, 7, 2, 8, 10, 11, 65, 72, 81, 99, 100, 150] and window of 3."
   ]
  },
  {
   "cell_type": "code",
   "execution_count": null,
   "metadata": {},
   "outputs": [],
   "source": []
  },
  {
   "cell_type": "markdown",
   "metadata": {},
   "source": [
    "Q.2 How-to-count-distance-to-the-previous-zero\n",
    "For each value, count the difference back to the previous zero (or the start of the Series,\n",
    "whichever is closer)\n",
    "create a new column 'Y'\n",
    "Consider a DataFrame df where there is an integer column 'X'\n",
    "    \n",
    "    import pandas as pd\n",
    "    df = pd.DataFrame({'X': [7, 2, 0, 3, 4, 2, 5, 0, 3, 4]})"
   ]
  },
  {
   "cell_type": "code",
   "execution_count": 1,
   "metadata": {},
   "outputs": [
    {
     "data": {
      "text/plain": [
       "0    1.0\n",
       "1    2.0\n",
       "2    0.0\n",
       "3    1.0\n",
       "4    2.0\n",
       "5    3.0\n",
       "6    4.0\n",
       "7    0.0\n",
       "8    1.0\n",
       "9    2.0\n",
       "dtype: float64"
      ]
     },
     "execution_count": 1,
     "metadata": {},
     "output_type": "execute_result"
    }
   ],
   "source": [
    "import numpy as np\n",
    "import pandas as pd\n",
    "s = pd.Series([7,2,0,3,4,2,5,0,3,4])\n",
    "x = (s != 0).cumsum()\n",
    "y = x != x.shift()\n",
    "y.groupby((y != y.shift()).cumsum()).cumsum()\n"
   ]
  },
  {
   "cell_type": "markdown",
   "metadata": {},
   "source": [
    "Q.3 Create a DatetimeIndex that contains each business day of 2015 and use it to index a Series of\n",
    "random numbers."
   ]
  },
  {
   "cell_type": "code",
   "execution_count": 9,
   "metadata": {},
   "outputs": [
    {
     "name": "stdout",
     "output_type": "stream",
     "text": [
      "                   0\n",
      "2015-01-01 -1.802436\n",
      "2015-01-02  1.369447\n",
      "2015-01-05 -0.404503\n",
      "2015-01-06  1.058586\n",
      "2015-01-07  0.347838\n",
      "2015-01-08  1.464384\n",
      "2015-01-09 -0.734716\n",
      "2015-01-12 -0.876820\n",
      "2015-01-13 -0.775994\n",
      "2015-01-14  0.326260\n",
      "2015-01-15 -0.236249\n",
      "2015-01-16 -1.195186\n",
      "2015-01-19 -1.436038\n",
      "2015-01-20 -1.586922\n",
      "2015-01-21  0.976915\n",
      "2015-01-22 -0.517313\n",
      "2015-01-23  0.904554\n",
      "2015-01-26 -1.455832\n",
      "2015-01-27 -1.159996\n",
      "2015-01-28  0.335528\n",
      "2015-01-29  0.119818\n",
      "2015-01-30  1.087484\n",
      "2015-02-02 -0.378464\n",
      "2015-02-03 -0.105731\n",
      "2015-02-04 -0.133474\n",
      "2015-02-05 -0.409809\n",
      "2015-02-06 -2.774913\n",
      "2015-02-09  0.790621\n",
      "2015-02-10 -0.117290\n",
      "2015-02-11 -0.030787\n",
      "...              ...\n",
      "2015-11-20  0.016708\n",
      "2015-11-23 -0.961345\n",
      "2015-11-24 -1.481104\n",
      "2015-11-25 -1.427977\n",
      "2015-11-26  0.799634\n",
      "2015-11-27  0.036157\n",
      "2015-11-30  0.006288\n",
      "2015-12-01 -1.296935\n",
      "2015-12-02  1.632969\n",
      "2015-12-03  1.768135\n",
      "2015-12-04  0.498737\n",
      "2015-12-07  0.699473\n",
      "2015-12-08  1.087876\n",
      "2015-12-09  0.966391\n",
      "2015-12-10 -0.203208\n",
      "2015-12-11  1.363000\n",
      "2015-12-14 -2.082627\n",
      "2015-12-15  0.856817\n",
      "2015-12-16 -0.217065\n",
      "2015-12-17 -0.515889\n",
      "2015-12-18 -0.908399\n",
      "2015-12-21 -1.692884\n",
      "2015-12-22 -0.933089\n",
      "2015-12-23 -0.103766\n",
      "2015-12-24 -1.833785\n",
      "2015-12-25  0.843775\n",
      "2015-12-28 -1.127375\n",
      "2015-12-29 -1.498908\n",
      "2015-12-30  0.555305\n",
      "2015-12-31  0.088362\n",
      "\n",
      "[261 rows x 1 columns]\n"
     ]
    }
   ],
   "source": [
    "import pandas as pd\n",
    "import numpy as np\n",
    "dates = pd.date_range('1/1/2015', periods=261, freq='B')\n",
    "df = pd.DataFrame(np.random.randn(261,1), index=dates)\n",
    "print(df)\n",
    "\n"
   ]
  },
  {
   "cell_type": "markdown",
   "metadata": {},
   "source": [
    "Q.4 "
   ]
  }
 ],
 "metadata": {
  "kernelspec": {
   "display_name": "Python 3",
   "language": "python",
   "name": "python3"
  },
  "language_info": {
   "codemirror_mode": {
    "name": "ipython",
    "version": 3
   },
   "file_extension": ".py",
   "mimetype": "text/x-python",
   "name": "python",
   "nbconvert_exporter": "python",
   "pygments_lexer": "ipython3",
   "version": "3.7.0"
  }
 },
 "nbformat": 4,
 "nbformat_minor": 2
}
